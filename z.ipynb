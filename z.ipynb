{
 "cells": [
  {
   "cell_type": "code",
   "execution_count": 236,
   "metadata": {},
   "outputs": [],
   "source": [
    "import os\n",
    "import cv2\n",
    "import uuid\n",
    "import tensorflow as tf\n",
    "import pandas as pd\n",
    "import numpy as np\n",
    "from pathlib import Path\n",
    "from tensorflow.keras.models import load_model\n",
    "\n",
    "import random\n",
    "from PIL import Image\n",
    "from src.handwritten.utils.data_processing import load_image"
   ]
  },
  {
   "cell_type": "code",
   "execution_count": 228,
   "metadata": {},
   "outputs": [],
   "source": [
    "class PredictionPipeline:\n",
    "    def __init__(self,filename):\n",
    "        self.filename =filename\n",
    "\n",
    "    \n",
    "    def predict(self):\n",
    "        model_path      = os.path.join('artifacts','training','model.h5')\n",
    "        trained_model   = load_model(filepath=model_path,)    \n",
    "        img             = load_image(self.filename)\n",
    "        ex_img          = tf.expand_dims(img,axis=0)\n",
    "        pred            = trained_model.predict(ex_img)\n",
    "        pred            = tf.argmax(pred,axis=-1).numpy()[0]\n",
    "\n",
    "        \n",
    "        return int(pred)"
   ]
  },
  {
   "cell_type": "code",
   "execution_count": 229,
   "metadata": {},
   "outputs": [
    {
     "name": "stdout",
     "output_type": "stream",
     "text": [
      "WARNING:tensorflow:6 out of the last 11 calls to <function Model.make_predict_function.<locals>.predict_function at 0x000001A219F0F790> triggered tf.function retracing. Tracing is expensive and the excessive number of tracings could be due to (1) creating @tf.function repeatedly in a loop, (2) passing tensors with different shapes, (3) passing Python objects instead of tensors. For (1), please define your @tf.function outside of the loop. For (2), @tf.function has reduce_retracing=True option that can avoid unnecessary retracing. For (3), please refer to https://www.tensorflow.org/guide/function#controlling_retracing and https://www.tensorflow.org/api_docs/python/tf/function for  more details.\n",
      "1/1 [==============================] - 0s 51ms/step\n"
     ]
    }
   ],
   "source": [
    "if __name__ == \"__main__\":\n",
    "    prediction = PredictionPipeline(filename='3e6ba4dc-26c2-4897-8a3c-ccc7fcac747f.png')\n",
    "    pred = prediction.predict()"
   ]
  },
  {
   "cell_type": "code",
   "execution_count": 159,
   "metadata": {},
   "outputs": [],
   "source": [
    "val = pd.read_csv('artifacts/datas/val.csv')\n",
    "output_folder = 'static'\n",
    "os.makedirs(output_folder, exist_ok=True)\n",
    "\n",
    "\n",
    "random_rows = val.sample(n=10)\n",
    "for index, row in random_rows.iterrows():\n",
    "\n",
    "    random_file = random_rows.loc[index]\n",
    "    digit_name  = random_file.iloc[-1]\n",
    "    pixel_values = random_file.iloc[:-1]\n",
    "    image_data = np.array(pixel_values,dtype=np.uint8).reshape(28, 28)\n",
    "    image = Image.fromarray(image_data)\n",
    "\n",
    "    image_filename = str(uuid.uuid4()) + '.png'\n",
    "    image.save(os.path.join(output_folder, image_filename))\n",
    "    "
   ]
  },
  {
   "cell_type": "code",
   "execution_count": 231,
   "metadata": {},
   "outputs": [],
   "source": [
    "UPLOAD_FOLDER   = \"\\\\Users\\\\Asus\\\\vs_code\\\\handwritten\\\\static\"\n",
    "upload_file_path        = os.path.join(UPLOAD_FOLDER,'upload')\n",
    "image_path = '3e6ba4dc-26c2-4897-8a3c-ccc7fcac747f.png'"
   ]
  },
  {
   "cell_type": "code",
   "execution_count": 233,
   "metadata": {},
   "outputs": [],
   "source": [
    "image_location = os.path.join(upload_file_path,image_path)"
   ]
  },
  {
   "cell_type": "code",
   "execution_count": 238,
   "metadata": {},
   "outputs": [
    {
     "data": {
      "text/plain": [
       "'\\\\Users\\\\Asus\\\\vs_code\\\\handwritten\\\\static\\\\upload\\\\3e6ba4dc-26c2-4897-8a3c-ccc7fcac747f.jpeg'"
      ]
     },
     "execution_count": 238,
     "metadata": {},
     "output_type": "execute_result"
    }
   ],
   "source": [
    "os.path.splitext(image_location)[0] + \".jpeg\""
   ]
  },
  {
   "cell_type": "code",
   "execution_count": 239,
   "metadata": {},
   "outputs": [
    {
     "data": {
      "text/plain": [
       "True"
      ]
     },
     "execution_count": 239,
     "metadata": {},
     "output_type": "execute_result"
    }
   ],
   "source": [
    "image_jpeg_file = os.path.splitext(image_location)[0] + \".jpeg\"\n",
    "img_file        = os.path.basename(image_jpeg_file)\n",
    "img             = cv2.imread(image_location)\n",
    "cv2.imwrite(image_jpeg_file, img, [int(cv2.IMWRITE_JPEG_QUALITY), 100])"
   ]
  },
  {
   "cell_type": "code",
   "execution_count": 241,
   "metadata": {},
   "outputs": [],
   "source": [
    "class ClientApp:\n",
    "    def __init__(self):\n",
    "        self.filename = \"\"\n",
    "    def init_classifier(self):\n",
    "        self.classifier = PredictionPipeline(self.filename)"
   ]
  },
  {
   "cell_type": "code",
   "execution_count": 242,
   "metadata": {},
   "outputs": [
    {
     "data": {
      "text/plain": [
       "'3e6ba4dc-26c2-4897-8a3c-ccc7fcac747f.jpeg'"
      ]
     },
     "execution_count": 242,
     "metadata": {},
     "output_type": "execute_result"
    }
   ],
   "source": [
    "img_file"
   ]
  }
 ],
 "metadata": {
  "kernelspec": {
   "display_name": "brain",
   "language": "python",
   "name": "python3"
  },
  "language_info": {
   "codemirror_mode": {
    "name": "ipython",
    "version": 3
   },
   "file_extension": ".py",
   "mimetype": "text/x-python",
   "name": "python",
   "nbconvert_exporter": "python",
   "pygments_lexer": "ipython3",
   "version": "3.9.18"
  }
 },
 "nbformat": 4,
 "nbformat_minor": 2
}
